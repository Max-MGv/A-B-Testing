{
 "cells": [
  {
   "cell_type": "code",
   "execution_count": 1,
   "metadata": {},
   "outputs": [],
   "source": [
    "import pandas as pd"
   ]
  },
  {
   "cell_type": "markdown",
   "metadata": {},
   "source": [
    "\n",
    "Section 1: Data Preparation and Exploration\n",
    "\n",
    "Group and count the number of users by 'utm_source' and rename the column"
   ]
  },
  {
   "cell_type": "code",
   "execution_count": 2,
   "metadata": {},
   "outputs": [
    {
     "name": "stdout",
     "output_type": "stream",
     "text": [
      "                                user_id utm_source            day  \\\n",
      "0  008b7c6c-7272-471e-b90e-930d548bd8d7     google   6 - Saturday   \n",
      "1  009abb94-5e14-4b6c-bb1c-4f4df7aa7557   facebook     7 - Sunday   \n",
      "2  00f5d532-ed58-4570-b6d2-768df5f41aed    twitter    2 - Tuesday   \n",
      "3  011adc64-0f44-4fd9-a0bb-f1506d2ad439     google    2 - Tuesday   \n",
      "4  012137e6-7ae7-4649-af68-205b4702169c   facebook     7 - Sunday   \n",
      "5  013b0072-7b72-40e7-b698-98b4d0c9967f   facebook     1 - Monday   \n",
      "6  0153d85b-7660-4c39-92eb-1e1acd023280     google   4 - Thursday   \n",
      "7  01555297-d6e6-49ae-aeba-1b196fdbb09f     google  3 - Wednesday   \n",
      "8  018cea61-19ea-4119-895b-1a4309ccb148      email     1 - Monday   \n",
      "9  01a210c3-fde0-4e6f-8efd-4f0e38730ae6      email    2 - Tuesday   \n",
      "\n",
      "  ad_click_timestamp experimental_group  \n",
      "0               7:18                  A  \n",
      "1                NaN                  B  \n",
      "2                NaN                  A  \n",
      "3                NaN                  B  \n",
      "4                NaN                  B  \n",
      "5                NaN                  A  \n",
      "6                NaN                  A  \n",
      "7                NaN                  A  \n",
      "8              18:33                  A  \n",
      "9              15:21                  B  \n",
      "  utm_source  views\n",
      "0      email    255\n",
      "1   facebook    504\n",
      "2     google    680\n",
      "3    twitter    215\n"
     ]
    }
   ],
   "source": [
    "ad_clicks = pd.read_csv('ad_clicks.csv', delimiter=',')\n",
    "print(ad_clicks.head(10))\n",
    "sorted_by_view = ad_clicks.groupby('utm_source').user_id.count().reset_index()\n",
    "sorted_by_view = sorted_by_view.rename(columns={'user_id': \"views\"})\n",
    "print(sorted_by_view)"
   ]
  },
  {
   "cell_type": "markdown",
   "metadata": {},
   "source": [
    "Create a new column 'is_click' based on the presence of 'ad_click_timestamp'\n"
   ]
  },
  {
   "cell_type": "code",
   "execution_count": 3,
   "metadata": {},
   "outputs": [
    {
     "name": "stdout",
     "output_type": "stream",
     "text": [
      "                                user_id utm_source            day  \\\n",
      "0  008b7c6c-7272-471e-b90e-930d548bd8d7     google   6 - Saturday   \n",
      "1  009abb94-5e14-4b6c-bb1c-4f4df7aa7557   facebook     7 - Sunday   \n",
      "2  00f5d532-ed58-4570-b6d2-768df5f41aed    twitter    2 - Tuesday   \n",
      "3  011adc64-0f44-4fd9-a0bb-f1506d2ad439     google    2 - Tuesday   \n",
      "4  012137e6-7ae7-4649-af68-205b4702169c   facebook     7 - Sunday   \n",
      "5  013b0072-7b72-40e7-b698-98b4d0c9967f   facebook     1 - Monday   \n",
      "6  0153d85b-7660-4c39-92eb-1e1acd023280     google   4 - Thursday   \n",
      "7  01555297-d6e6-49ae-aeba-1b196fdbb09f     google  3 - Wednesday   \n",
      "8  018cea61-19ea-4119-895b-1a4309ccb148      email     1 - Monday   \n",
      "9  01a210c3-fde0-4e6f-8efd-4f0e38730ae6      email    2 - Tuesday   \n",
      "\n",
      "  ad_click_timestamp experimental_group  is_click  \n",
      "0               7:18                  A      True  \n",
      "1                NaN                  B     False  \n",
      "2                NaN                  A     False  \n",
      "3                NaN                  B     False  \n",
      "4                NaN                  B     False  \n",
      "5                NaN                  A     False  \n",
      "6                NaN                  A     False  \n",
      "7                NaN                  A     False  \n",
      "8              18:33                  A      True  \n",
      "9              15:21                  B      True  \n"
     ]
    }
   ],
   "source": [
    "ad_clicks['is_click'] = ~ ad_clicks.ad_click_timestamp.isnull() \n",
    "print(ad_clicks.head(10))"
   ]
  },
  {
   "cell_type": "markdown",
   "metadata": {},
   "source": [
    "Section 2: Click Analysis by Source\n",
    "\n",
    "Group and count the number of users by 'utm_source' and 'is_click'"
   ]
  },
  {
   "cell_type": "code",
   "execution_count": 4,
   "metadata": {},
   "outputs": [
    {
     "name": "stdout",
     "output_type": "stream",
     "text": [
      "  utm_source  is_click  user_id\n",
      "0      email     False      175\n",
      "1      email      True       80\n",
      "2   facebook     False      324\n",
      "3   facebook      True      180\n",
      "4     google     False      441\n"
     ]
    }
   ],
   "source": [
    "clicks_by_source = ad_clicks.groupby(['utm_source', 'is_click']).user_id.count().reset_index()\n",
    "print(clicks_by_source.head(5))\n"
   ]
  },
  {
   "cell_type": "markdown",
   "metadata": {},
   "source": [
    " Pivot the data to have 'is_click' as columns and 'utm_source' as index"
   ]
  },
  {
   "cell_type": "code",
   "execution_count": 5,
   "metadata": {},
   "outputs": [],
   "source": [
    "clicks_pivot = clicks_by_source.pivot(\n",
    "columns = 'is_click',\n",
    "index = 'utm_source',\n",
    "values = 'user_id'\n",
    ").reset_index()"
   ]
  },
  {
   "cell_type": "markdown",
   "metadata": {},
   "source": [
    "Calculate the 'percent_clicked' for each source"
   ]
  },
  {
   "cell_type": "code",
   "execution_count": 6,
   "metadata": {},
   "outputs": [
    {
     "name": "stdout",
     "output_type": "stream",
     "text": [
      "is_click utm_source  False  True  percent_clicked\n",
      "0             email    175    80             31.0\n",
      "1          facebook    324   180             36.0\n",
      "2            google    441   239             35.0\n",
      "3           twitter    149    66             31.0\n"
     ]
    }
   ],
   "source": [
    "clicks_pivot['percent_clicked'] =  ((clicks_pivot[True] / (clicks_pivot[True] + \n",
    "clicks_pivot[False])) * 100).round()\n",
    "print(clicks_pivot)"
   ]
  },
  {
   "cell_type": "markdown",
   "metadata": {},
   "source": [
    "Section 3: Experimental Group Analysis\n",
    "\n",
    "Count the number of users by 'experimental_group'"
   ]
  },
  {
   "cell_type": "code",
   "execution_count": 7,
   "metadata": {},
   "outputs": [
    {
     "name": "stdout",
     "output_type": "stream",
     "text": [
      "  experimental_group  user_id\n",
      "0                  A      827\n",
      "1                  B      827\n"
     ]
    }
   ],
   "source": [
    "exp_group_count = ad_clicks.groupby('experimental_group').user_id.count().reset_index()\n",
    "print(exp_group_count)\n"
   ]
  },
  {
   "cell_type": "markdown",
   "metadata": {},
   "source": [
    "Group and count the number of users by 'is_click' and 'experimental_group'"
   ]
  },
  {
   "cell_type": "code",
   "execution_count": 8,
   "metadata": {},
   "outputs": [
    {
     "name": "stdout",
     "output_type": "stream",
     "text": [
      "   is_click experimental_group  user_id\n",
      "0     False                  A      517\n",
      "1     False                  B      572\n",
      "2      True                  A      310\n",
      "3      True                  B      255\n"
     ]
    }
   ],
   "source": [
    "AB_click_perc = ad_clicks.groupby(['is_click', 'experimental_group']).user_id.count().reset_index()\n",
    "print(AB_click_perc)"
   ]
  },
  {
   "cell_type": "markdown",
   "metadata": {},
   "source": [
    "Pivot the data to have 'is_click' as columns and 'experimental_group' as index"
   ]
  },
  {
   "cell_type": "code",
   "execution_count": 9,
   "metadata": {},
   "outputs": [
    {
     "name": "stdout",
     "output_type": "stream",
     "text": [
      "is_click            False  True \n",
      "experimental_group              \n",
      "A                     517    310\n",
      "B                     572    255\n"
     ]
    }
   ],
   "source": [
    "AB_click_perc_pivot = AB_click_perc.pivot(\n",
    "columns = 'is_click',\n",
    "index = 'experimental_group',\n",
    "values = 'user_id'\n",
    ")\n",
    "print(AB_click_perc_pivot)"
   ]
  },
  {
   "cell_type": "markdown",
   "metadata": {},
   "source": [
    "Section 4: Click Analysis by Day (A and B Groups)"
   ]
  },
  {
   "cell_type": "code",
   "execution_count": 10,
   "metadata": {},
   "outputs": [],
   "source": [
    "a_clicks = ad_clicks[\n",
    "   ad_clicks.experimental_group\n",
    "   == 'A'].reset_index()\n",
    "# print(a_clicks)\n",
    "b_clicks = ad_clicks[ad_clicks.experimental_group == 'B'].reset_index()\n",
    "# print(b_clicks)"
   ]
  },
  {
   "cell_type": "markdown",
   "metadata": {},
   "source": [
    "Group and count the number of users by 'day' and 'is_click' for groups"
   ]
  },
  {
   "cell_type": "code",
   "execution_count": 11,
   "metadata": {},
   "outputs": [
    {
     "name": "stdout",
     "output_type": "stream",
     "text": [
      "is_click       False  True \n",
      "day                        \n",
      "1 - Monday        70     43\n",
      "2 - Tuesday       76     43\n",
      "3 - Wednesday     86     38\n",
      "4 - Thursday      69     47\n",
      "5 - Friday        77     51\n",
      "6 - Saturday      73     45\n",
      "7 - Sunday        66     43\n"
     ]
    }
   ],
   "source": [
    "a_clicks_pivot = a_clicks.groupby(['day', 'is_click']).user_id.count().reset_index().pivot(\n",
    "columns = 'is_click',\n",
    "index = 'day',\n",
    "values = 'user_id'\n",
    ")\n",
    "b_clicks_pivot= b_clicks.groupby(['day', 'is_click']).user_id.count().reset_index().pivot(\n",
    "columns = 'is_click',\n",
    "index = 'day',\n",
    "values = 'user_id'\n",
    ")\n",
    "print(a_clicks_pivot)"
   ]
  },
  {
   "cell_type": "markdown",
   "metadata": {},
   "source": [
    "Calculate the 'percentage_clicked' for each day in both groups"
   ]
  },
  {
   "cell_type": "code",
   "execution_count": 12,
   "metadata": {},
   "outputs": [
    {
     "name": "stdout",
     "output_type": "stream",
     "text": [
      "is_click       False  True  percentage_clicked\n",
      "day                                           \n",
      "1 - Monday        70    43            0.380531\n",
      "2 - Tuesday       76    43            0.361345\n",
      "3 - Wednesday     86    38            0.306452\n",
      "4 - Thursday      69    47            0.405172\n",
      "5 - Friday        77    51            0.398438\n",
      "6 - Saturday      73    45            0.381356\n",
      "7 - Sunday        66    43            0.394495\n",
      "is_click       False  True  percentage_clicked\n",
      "day                                           \n",
      "1 - Monday        81    32            0.283186\n",
      "2 - Tuesday       74    45            0.378151\n",
      "3 - Wednesday     89    35            0.282258\n",
      "4 - Thursday      87    29            0.250000\n",
      "5 - Friday        90    38            0.296875\n",
      "6 - Saturday      76    42            0.355932\n",
      "7 - Sunday        75    34            0.311927\n"
     ]
    }
   ],
   "source": [
    "a_clicks_pivot['percentage_clicked'] = (a_clicks_pivot[True] / (a_clicks_pivot[True] + \n",
    "a_clicks_pivot[False]))\n",
    "b_clicks_pivot['percentage_clicked'] = (b_clicks_pivot[True] / (b_clicks_pivot[True] + \n",
    "b_clicks_pivot[False]))\n",
    "\n",
    "print(a_clicks_pivot)\n",
    "print(b_clicks_pivot)"
   ]
  }
 ],
 "metadata": {
  "kernelspec": {
   "display_name": "Python 3",
   "language": "python",
   "name": "python3"
  },
  "language_info": {
   "codemirror_mode": {
    "name": "ipython",
    "version": 3
   },
   "file_extension": ".py",
   "mimetype": "text/x-python",
   "name": "python",
   "nbconvert_exporter": "python",
   "pygments_lexer": "ipython3",
   "version": "3.9.2"
  },
  "orig_nbformat": 4
 },
 "nbformat": 4,
 "nbformat_minor": 2
}
